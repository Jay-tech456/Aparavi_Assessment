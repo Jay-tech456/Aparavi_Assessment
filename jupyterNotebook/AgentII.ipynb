{
 "cells": [
  {
   "cell_type": "code",
   "execution_count": 47,
   "id": "a1e87d3d",
   "metadata": {},
   "outputs": [],
   "source": [
    "from dotenv import load_dotenv\n",
    "import os\n",
    "\n",
    "load_dotenv()\n",
    "mistral_key = os.getenv('MISTRAL_API_KEY')\n",
    "\n",
    "\n",
    "pinecone_key = os.getenv('PINECONE_API_KEY')\n",
    "\n",
    "index_name = os.getenv(\"INDEX_NAME\")\n",
    "\n",
    "\n"
   ]
  },
  {
   "cell_type": "code",
   "execution_count": 48,
   "id": "5d01771a",
   "metadata": {},
   "outputs": [],
   "source": [
    "from langchain_ollama import OllamaEmbeddings\n",
    "from langchain_nomic import NomicEmbeddings\n",
    "from langchain_mistralai import ChatMistralAI\n",
    "\n",
    "embeddings = OllamaEmbeddings(\n",
    "    model=\"nomic-embed-text\"\n",
    ")\n",
    "\n",
    "\n",
    "mistral_model = ChatMistralAI(model=\"mistral-large-latest\", temperature=0, api_key=mistral_key)"
   ]
  },
  {
   "cell_type": "code",
   "execution_count": 49,
   "id": "a98681c9",
   "metadata": {},
   "outputs": [
    {
     "name": "stdout",
     "output_type": "stream",
     "text": [
      "Requirement already satisfied: langchain_pinecone in /Users/manjeshprasad/opt/anaconda3/envs/aparavi/lib/python3.10/site-packages (0.2.9)\n",
      "Requirement already satisfied: langchain-core<1.0.0,>=0.3.34 in /Users/manjeshprasad/opt/anaconda3/envs/aparavi/lib/python3.10/site-packages (from langchain_pinecone) (0.3.69)\n",
      "Requirement already satisfied: pinecone<8.0.0,>=6.0.0 in /Users/manjeshprasad/opt/anaconda3/envs/aparavi/lib/python3.10/site-packages (from pinecone[asyncio]<8.0.0,>=6.0.0->langchain_pinecone) (7.3.0)\n",
      "Requirement already satisfied: numpy>=1.26.4 in /Users/manjeshprasad/opt/anaconda3/envs/aparavi/lib/python3.10/site-packages (from langchain_pinecone) (2.2.6)\n",
      "Requirement already satisfied: langchain-tests<1.0.0,>=0.3.7 in /Users/manjeshprasad/opt/anaconda3/envs/aparavi/lib/python3.10/site-packages (from langchain_pinecone) (0.3.20)\n",
      "Requirement already satisfied: langchain-openai>=0.3.11 in /Users/manjeshprasad/opt/anaconda3/envs/aparavi/lib/python3.10/site-packages (from langchain_pinecone) (0.3.28)\n",
      "Requirement already satisfied: langsmith>=0.3.45 in /Users/manjeshprasad/opt/anaconda3/envs/aparavi/lib/python3.10/site-packages (from langchain-core<1.0.0,>=0.3.34->langchain_pinecone) (0.4.7)\n",
      "Requirement already satisfied: tenacity!=8.4.0,<10.0.0,>=8.1.0 in /Users/manjeshprasad/opt/anaconda3/envs/aparavi/lib/python3.10/site-packages (from langchain-core<1.0.0,>=0.3.34->langchain_pinecone) (9.1.2)\n",
      "Requirement already satisfied: jsonpatch<2.0,>=1.33 in /Users/manjeshprasad/opt/anaconda3/envs/aparavi/lib/python3.10/site-packages (from langchain-core<1.0.0,>=0.3.34->langchain_pinecone) (1.33)\n",
      "Requirement already satisfied: PyYAML>=5.3 in /Users/manjeshprasad/opt/anaconda3/envs/aparavi/lib/python3.10/site-packages (from langchain-core<1.0.0,>=0.3.34->langchain_pinecone) (6.0.2)\n",
      "Requirement already satisfied: typing-extensions>=4.7 in /Users/manjeshprasad/opt/anaconda3/envs/aparavi/lib/python3.10/site-packages (from langchain-core<1.0.0,>=0.3.34->langchain_pinecone) (4.14.1)\n",
      "Requirement already satisfied: packaging>=23.2 in /Users/manjeshprasad/opt/anaconda3/envs/aparavi/lib/python3.10/site-packages (from langchain-core<1.0.0,>=0.3.34->langchain_pinecone) (24.2)\n",
      "Requirement already satisfied: pydantic>=2.7.4 in /Users/manjeshprasad/opt/anaconda3/envs/aparavi/lib/python3.10/site-packages (from langchain-core<1.0.0,>=0.3.34->langchain_pinecone) (2.11.7)\n",
      "Requirement already satisfied: jsonpointer>=1.9 in /Users/manjeshprasad/opt/anaconda3/envs/aparavi/lib/python3.10/site-packages (from jsonpatch<2.0,>=1.33->langchain-core<1.0.0,>=0.3.34->langchain_pinecone) (3.0.0)\n",
      "Requirement already satisfied: pytest<9,>=7 in /Users/manjeshprasad/opt/anaconda3/envs/aparavi/lib/python3.10/site-packages (from langchain-tests<1.0.0,>=0.3.7->langchain_pinecone) (8.4.1)\n",
      "Requirement already satisfied: pytest-asyncio<1,>=0.20 in /Users/manjeshprasad/opt/anaconda3/envs/aparavi/lib/python3.10/site-packages (from langchain-tests<1.0.0,>=0.3.7->langchain_pinecone) (0.26.0)\n",
      "Requirement already satisfied: httpx<1,>=0.25.0 in /Users/manjeshprasad/opt/anaconda3/envs/aparavi/lib/python3.10/site-packages (from langchain-tests<1.0.0,>=0.3.7->langchain_pinecone) (0.28.1)\n",
      "Requirement already satisfied: syrupy<5,>=4 in /Users/manjeshprasad/opt/anaconda3/envs/aparavi/lib/python3.10/site-packages (from langchain-tests<1.0.0,>=0.3.7->langchain_pinecone) (4.9.1)\n",
      "Requirement already satisfied: pytest-socket<1,>=0.6.0 in /Users/manjeshprasad/opt/anaconda3/envs/aparavi/lib/python3.10/site-packages (from langchain-tests<1.0.0,>=0.3.7->langchain_pinecone) (0.7.0)\n",
      "Requirement already satisfied: pytest-benchmark in /Users/manjeshprasad/opt/anaconda3/envs/aparavi/lib/python3.10/site-packages (from langchain-tests<1.0.0,>=0.3.7->langchain_pinecone) (5.1.0)\n",
      "Requirement already satisfied: pytest-codspeed in /Users/manjeshprasad/opt/anaconda3/envs/aparavi/lib/python3.10/site-packages (from langchain-tests<1.0.0,>=0.3.7->langchain_pinecone) (4.0.0)\n",
      "Requirement already satisfied: pytest-recording in /Users/manjeshprasad/opt/anaconda3/envs/aparavi/lib/python3.10/site-packages (from langchain-tests<1.0.0,>=0.3.7->langchain_pinecone) (0.13.4)\n",
      "Requirement already satisfied: vcrpy>=7.0 in /Users/manjeshprasad/opt/anaconda3/envs/aparavi/lib/python3.10/site-packages (from langchain-tests<1.0.0,>=0.3.7->langchain_pinecone) (7.0.0)\n",
      "Requirement already satisfied: anyio in /Users/manjeshprasad/opt/anaconda3/envs/aparavi/lib/python3.10/site-packages (from httpx<1,>=0.25.0->langchain-tests<1.0.0,>=0.3.7->langchain_pinecone) (4.9.0)\n",
      "Requirement already satisfied: certifi in /Users/manjeshprasad/opt/anaconda3/envs/aparavi/lib/python3.10/site-packages (from httpx<1,>=0.25.0->langchain-tests<1.0.0,>=0.3.7->langchain_pinecone) (2025.7.14)\n",
      "Requirement already satisfied: httpcore==1.* in /Users/manjeshprasad/opt/anaconda3/envs/aparavi/lib/python3.10/site-packages (from httpx<1,>=0.25.0->langchain-tests<1.0.0,>=0.3.7->langchain_pinecone) (1.0.9)\n",
      "Requirement already satisfied: idna in /Users/manjeshprasad/opt/anaconda3/envs/aparavi/lib/python3.10/site-packages (from httpx<1,>=0.25.0->langchain-tests<1.0.0,>=0.3.7->langchain_pinecone) (3.10)\n",
      "Requirement already satisfied: h11>=0.16 in /Users/manjeshprasad/opt/anaconda3/envs/aparavi/lib/python3.10/site-packages (from httpcore==1.*->httpx<1,>=0.25.0->langchain-tests<1.0.0,>=0.3.7->langchain_pinecone) (0.16.0)\n",
      "Requirement already satisfied: pinecone-plugin-assistant<2.0.0,>=1.6.0 in /Users/manjeshprasad/opt/anaconda3/envs/aparavi/lib/python3.10/site-packages (from pinecone<8.0.0,>=6.0.0->pinecone[asyncio]<8.0.0,>=6.0.0->langchain_pinecone) (1.7.0)\n",
      "Requirement already satisfied: pinecone-plugin-interface<0.0.8,>=0.0.7 in /Users/manjeshprasad/opt/anaconda3/envs/aparavi/lib/python3.10/site-packages (from pinecone<8.0.0,>=6.0.0->pinecone[asyncio]<8.0.0,>=6.0.0->langchain_pinecone) (0.0.7)\n",
      "Requirement already satisfied: python-dateutil>=2.5.3 in /Users/manjeshprasad/opt/anaconda3/envs/aparavi/lib/python3.10/site-packages (from pinecone<8.0.0,>=6.0.0->pinecone[asyncio]<8.0.0,>=6.0.0->langchain_pinecone) (2.9.0.post0)\n",
      "Requirement already satisfied: urllib3>=1.26.0 in /Users/manjeshprasad/opt/anaconda3/envs/aparavi/lib/python3.10/site-packages (from pinecone<8.0.0,>=6.0.0->pinecone[asyncio]<8.0.0,>=6.0.0->langchain_pinecone) (2.5.0)\n",
      "Requirement already satisfied: requests<3.0.0,>=2.32.3 in /Users/manjeshprasad/opt/anaconda3/envs/aparavi/lib/python3.10/site-packages (from pinecone-plugin-assistant<2.0.0,>=1.6.0->pinecone<8.0.0,>=6.0.0->pinecone[asyncio]<8.0.0,>=6.0.0->langchain_pinecone) (2.32.4)\n",
      "Requirement already satisfied: aiohttp>=3.9.0 in /Users/manjeshprasad/opt/anaconda3/envs/aparavi/lib/python3.10/site-packages (from pinecone[asyncio]<8.0.0,>=6.0.0->langchain_pinecone) (3.12.14)\n",
      "Requirement already satisfied: aiohttp-retry<3.0.0,>=2.9.1 in /Users/manjeshprasad/opt/anaconda3/envs/aparavi/lib/python3.10/site-packages (from pinecone[asyncio]<8.0.0,>=6.0.0->langchain_pinecone) (2.9.1)\n",
      "Requirement already satisfied: exceptiongroup>=1 in /Users/manjeshprasad/opt/anaconda3/envs/aparavi/lib/python3.10/site-packages (from pytest<9,>=7->langchain-tests<1.0.0,>=0.3.7->langchain_pinecone) (1.3.0)\n",
      "Requirement already satisfied: iniconfig>=1 in /Users/manjeshprasad/opt/anaconda3/envs/aparavi/lib/python3.10/site-packages (from pytest<9,>=7->langchain-tests<1.0.0,>=0.3.7->langchain_pinecone) (2.1.0)\n",
      "Requirement already satisfied: pluggy<2,>=1.5 in /Users/manjeshprasad/opt/anaconda3/envs/aparavi/lib/python3.10/site-packages (from pytest<9,>=7->langchain-tests<1.0.0,>=0.3.7->langchain_pinecone) (1.6.0)\n",
      "Requirement already satisfied: pygments>=2.7.2 in /Users/manjeshprasad/opt/anaconda3/envs/aparavi/lib/python3.10/site-packages (from pytest<9,>=7->langchain-tests<1.0.0,>=0.3.7->langchain_pinecone) (2.19.2)\n",
      "Requirement already satisfied: tomli>=1 in /Users/manjeshprasad/opt/anaconda3/envs/aparavi/lib/python3.10/site-packages (from pytest<9,>=7->langchain-tests<1.0.0,>=0.3.7->langchain_pinecone) (2.2.1)\n",
      "Requirement already satisfied: charset_normalizer<4,>=2 in /Users/manjeshprasad/opt/anaconda3/envs/aparavi/lib/python3.10/site-packages (from requests<3.0.0,>=2.32.3->pinecone-plugin-assistant<2.0.0,>=1.6.0->pinecone<8.0.0,>=6.0.0->pinecone[asyncio]<8.0.0,>=6.0.0->langchain_pinecone) (3.4.2)\n",
      "Requirement already satisfied: aiohappyeyeballs>=2.5.0 in /Users/manjeshprasad/opt/anaconda3/envs/aparavi/lib/python3.10/site-packages (from aiohttp>=3.9.0->pinecone[asyncio]<8.0.0,>=6.0.0->langchain_pinecone) (2.6.1)\n",
      "Requirement already satisfied: aiosignal>=1.4.0 in /Users/manjeshprasad/opt/anaconda3/envs/aparavi/lib/python3.10/site-packages (from aiohttp>=3.9.0->pinecone[asyncio]<8.0.0,>=6.0.0->langchain_pinecone) (1.4.0)\n",
      "Requirement already satisfied: async-timeout<6.0,>=4.0 in /Users/manjeshprasad/opt/anaconda3/envs/aparavi/lib/python3.10/site-packages (from aiohttp>=3.9.0->pinecone[asyncio]<8.0.0,>=6.0.0->langchain_pinecone) (4.0.3)\n",
      "Requirement already satisfied: attrs>=17.3.0 in /Users/manjeshprasad/opt/anaconda3/envs/aparavi/lib/python3.10/site-packages (from aiohttp>=3.9.0->pinecone[asyncio]<8.0.0,>=6.0.0->langchain_pinecone) (25.3.0)\n",
      "Requirement already satisfied: frozenlist>=1.1.1 in /Users/manjeshprasad/opt/anaconda3/envs/aparavi/lib/python3.10/site-packages (from aiohttp>=3.9.0->pinecone[asyncio]<8.0.0,>=6.0.0->langchain_pinecone) (1.7.0)\n",
      "Requirement already satisfied: multidict<7.0,>=4.5 in /Users/manjeshprasad/opt/anaconda3/envs/aparavi/lib/python3.10/site-packages (from aiohttp>=3.9.0->pinecone[asyncio]<8.0.0,>=6.0.0->langchain_pinecone) (6.6.3)\n",
      "Requirement already satisfied: propcache>=0.2.0 in /Users/manjeshprasad/opt/anaconda3/envs/aparavi/lib/python3.10/site-packages (from aiohttp>=3.9.0->pinecone[asyncio]<8.0.0,>=6.0.0->langchain_pinecone) (0.3.2)\n",
      "Requirement already satisfied: yarl<2.0,>=1.17.0 in /Users/manjeshprasad/opt/anaconda3/envs/aparavi/lib/python3.10/site-packages (from aiohttp>=3.9.0->pinecone[asyncio]<8.0.0,>=6.0.0->langchain_pinecone) (1.20.1)\n",
      "Requirement already satisfied: openai<2.0.0,>=1.86.0 in /Users/manjeshprasad/opt/anaconda3/envs/aparavi/lib/python3.10/site-packages (from langchain-openai>=0.3.11->langchain_pinecone) (1.97.0)\n",
      "Requirement already satisfied: tiktoken<1,>=0.7 in /Users/manjeshprasad/opt/anaconda3/envs/aparavi/lib/python3.10/site-packages (from langchain-openai>=0.3.11->langchain_pinecone) (0.9.0)\n",
      "Requirement already satisfied: distro<2,>=1.7.0 in /Users/manjeshprasad/opt/anaconda3/envs/aparavi/lib/python3.10/site-packages (from openai<2.0.0,>=1.86.0->langchain-openai>=0.3.11->langchain_pinecone) (1.9.0)\n",
      "Requirement already satisfied: jiter<1,>=0.4.0 in /Users/manjeshprasad/opt/anaconda3/envs/aparavi/lib/python3.10/site-packages (from openai<2.0.0,>=1.86.0->langchain-openai>=0.3.11->langchain_pinecone) (0.10.0)\n",
      "Requirement already satisfied: sniffio in /Users/manjeshprasad/opt/anaconda3/envs/aparavi/lib/python3.10/site-packages (from openai<2.0.0,>=1.86.0->langchain-openai>=0.3.11->langchain_pinecone) (1.3.1)\n",
      "Requirement already satisfied: tqdm>4 in /Users/manjeshprasad/opt/anaconda3/envs/aparavi/lib/python3.10/site-packages (from openai<2.0.0,>=1.86.0->langchain-openai>=0.3.11->langchain_pinecone) (4.67.1)\n",
      "Requirement already satisfied: annotated-types>=0.6.0 in /Users/manjeshprasad/opt/anaconda3/envs/aparavi/lib/python3.10/site-packages (from pydantic>=2.7.4->langchain-core<1.0.0,>=0.3.34->langchain_pinecone) (0.7.0)\n",
      "Requirement already satisfied: pydantic-core==2.33.2 in /Users/manjeshprasad/opt/anaconda3/envs/aparavi/lib/python3.10/site-packages (from pydantic>=2.7.4->langchain-core<1.0.0,>=0.3.34->langchain_pinecone) (2.33.2)\n",
      "Requirement already satisfied: typing-inspection>=0.4.0 in /Users/manjeshprasad/opt/anaconda3/envs/aparavi/lib/python3.10/site-packages (from pydantic>=2.7.4->langchain-core<1.0.0,>=0.3.34->langchain_pinecone) (0.4.1)\n",
      "Requirement already satisfied: regex>=2022.1.18 in /Users/manjeshprasad/opt/anaconda3/envs/aparavi/lib/python3.10/site-packages (from tiktoken<1,>=0.7->langchain-openai>=0.3.11->langchain_pinecone) (2024.11.6)\n",
      "Requirement already satisfied: orjson<4.0.0,>=3.9.14 in /Users/manjeshprasad/opt/anaconda3/envs/aparavi/lib/python3.10/site-packages (from langsmith>=0.3.45->langchain-core<1.0.0,>=0.3.34->langchain_pinecone) (3.11.0)\n",
      "Requirement already satisfied: requests-toolbelt<2.0.0,>=1.0.0 in /Users/manjeshprasad/opt/anaconda3/envs/aparavi/lib/python3.10/site-packages (from langsmith>=0.3.45->langchain-core<1.0.0,>=0.3.34->langchain_pinecone) (1.0.0)\n",
      "Requirement already satisfied: zstandard<0.24.0,>=0.23.0 in /Users/manjeshprasad/opt/anaconda3/envs/aparavi/lib/python3.10/site-packages (from langsmith>=0.3.45->langchain-core<1.0.0,>=0.3.34->langchain_pinecone) (0.23.0)\n",
      "Requirement already satisfied: six>=1.5 in /Users/manjeshprasad/opt/anaconda3/envs/aparavi/lib/python3.10/site-packages (from python-dateutil>=2.5.3->pinecone<8.0.0,>=6.0.0->pinecone[asyncio]<8.0.0,>=6.0.0->langchain_pinecone) (1.17.0)\n",
      "Requirement already satisfied: wrapt in /Users/manjeshprasad/opt/anaconda3/envs/aparavi/lib/python3.10/site-packages (from vcrpy>=7.0->langchain-tests<1.0.0,>=0.3.7->langchain_pinecone) (1.17.2)\n",
      "Requirement already satisfied: py-cpuinfo in /Users/manjeshprasad/opt/anaconda3/envs/aparavi/lib/python3.10/site-packages (from pytest-benchmark->langchain-tests<1.0.0,>=0.3.7->langchain_pinecone) (9.0.0)\n",
      "Requirement already satisfied: cffi>=1.17.1 in /Users/manjeshprasad/opt/anaconda3/envs/aparavi/lib/python3.10/site-packages (from pytest-codspeed->langchain-tests<1.0.0,>=0.3.7->langchain_pinecone) (1.17.1)\n",
      "Requirement already satisfied: rich>=13.8.1 in /Users/manjeshprasad/opt/anaconda3/envs/aparavi/lib/python3.10/site-packages (from pytest-codspeed->langchain-tests<1.0.0,>=0.3.7->langchain_pinecone) (14.0.0)\n",
      "Requirement already satisfied: pycparser in /Users/manjeshprasad/opt/anaconda3/envs/aparavi/lib/python3.10/site-packages (from cffi>=1.17.1->pytest-codspeed->langchain-tests<1.0.0,>=0.3.7->langchain_pinecone) (2.22)\n",
      "Requirement already satisfied: markdown-it-py>=2.2.0 in /Users/manjeshprasad/opt/anaconda3/envs/aparavi/lib/python3.10/site-packages (from rich>=13.8.1->pytest-codspeed->langchain-tests<1.0.0,>=0.3.7->langchain_pinecone) (3.0.0)\n",
      "Requirement already satisfied: mdurl~=0.1 in /Users/manjeshprasad/opt/anaconda3/envs/aparavi/lib/python3.10/site-packages (from markdown-it-py>=2.2.0->rich>=13.8.1->pytest-codspeed->langchain-tests<1.0.0,>=0.3.7->langchain_pinecone) (0.1.2)\n"
     ]
    }
   ],
   "source": [
    "!pip install langchain_pinecone"
   ]
  },
  {
   "cell_type": "code",
   "execution_count": 50,
   "id": "17346e79",
   "metadata": {},
   "outputs": [],
   "source": [
    "import os\n",
    "from pinecone import Pinecone, ServerlessSpec\n",
    "from langchain.docstore.document import Document\n",
    "import numpy as np\n",
    "from langchain_community.embeddings import OllamaEmbeddings\n",
    "from langchain_pinecone import PineconeVectorStore\n",
    "import time \n",
    "\n",
    "\n",
    "class PineconeVectorStore:\n",
    "    def __init__(self, index_name, embedding, pinecone_api_key):\n",
    "        \n",
    "        self.pc = Pinecone(api_key=pinecone_api_key)\n",
    "        self.embedding = embedding\n",
    "        \n",
    "\n",
    "        existing_indexes = [index_info[\"name\"] for index_info in self.pc.list_indexes()]\n",
    "\n",
    "        # Check to see if the index already exist, if it does, it will connect it. \n",
    "        # By default, it will create an index\n",
    "        if index_name not in existing_indexes:\n",
    "            self.pc.create_index(\n",
    "                name=index_name,\n",
    "                dimension=768,\n",
    "                metric=\"cosine\",\n",
    "                spec=ServerlessSpec(cloud=\"aws\", region=\"us-east-1\"),\n",
    "            )\n",
    "            while not self.pc.describe_index(index_name).status[\"ready\"]:\n",
    "                time.sleep(1)\n",
    "\n",
    "        \n",
    "        # Access the Pinecone index\n",
    "        self.index = self.pc.Index(index_name)\n",
    "        print(\"Vector Store Successfully connected\")\n",
    "\n",
    "    \n",
    "\n",
    "    def similarity_search_by_vector(self, query, k=5):\n",
    "        \"\"\"Perform similarity search in Pinecone.\"\"\"\n",
    "        # Perform similarity search with the given embedding\n",
    "        embedding = self.embedding.embed_query(query)\n",
    "        results = self.index.query(\n",
    "            vector=embedding,\n",
    "            top_k=k,\n",
    "            include_values=False,\n",
    "            include_metadata=True,\n",
    "        )\n",
    "        \n",
    "        \n",
    "        if results.get(\"matches\"):\n",
    "            return [\n",
    "                Document(\n",
    "                    page_content=f\"Sub-topic: {result['metadata'].get('sub_topic', 'N/A')}\\n\"\n",
    "                                f\"Text: {result['metadata'].get('text', 'N/A')}\\n\"\n",
    "                                f\"Role: {result['metadata'].get('role_1', 'N/A')}\\n\"\n",
    "                                f\"Source: {result['metadata'].get('source', 'N/A')}\", \n",
    "                    metadata=result['metadata']\n",
    "                )\n",
    "                for result in results['matches']\n",
    "            ]\n",
    "        else:\n",
    "            print(\"No matches found\")\n",
    "            return []\n",
    "\n",
    "\n",
    "    def as_retriever(self):\n",
    "        \"\"\"Return the vector store as a retriever.\"\"\"\n",
    "        return self\n"
   ]
  },
  {
   "cell_type": "code",
   "execution_count": 51,
   "id": "8f24eaed",
   "metadata": {},
   "outputs": [
    {
     "name": "stdout",
     "output_type": "stream",
     "text": [
      "Vector Store Successfully connected\n"
     ]
    }
   ],
   "source": [
    "pineconevs = PineconeVectorStore(index_name, embeddings, pinecone_key)"
   ]
  },
  {
   "cell_type": "code",
   "execution_count": 52,
   "id": "7c871323",
   "metadata": {},
   "outputs": [
    {
     "name": "stdout",
     "output_type": "stream",
     "text": [
      "No matches found\n",
      "[]\n"
     ]
    }
   ],
   "source": [
    "# Testing out the Pinecone vector store connectivity\n",
    "retriever = pineconevs.as_retriever()\n",
    "\n",
    "li = retriever.similarity_search_by_vector(\"Newton\")\n",
    "print(li)"
   ]
  },
  {
   "cell_type": "code",
   "execution_count": 53,
   "id": "1116c5da",
   "metadata": {},
   "outputs": [],
   "source": [
    "def retrieve(query: str) -> list:\n",
    "    \"\"\"\n",
    "    Retrieves Physics documents using cosine similarity search from Pinecone vector database.\n",
    "\n",
    "    Args:\n",
    "        query (str): Search query for physics datasets \n",
    "\n",
    "    Returns:\n",
    "        list: Matching top 5 documents  documents from Pinecone database\n",
    "    \"\"\"\n",
    "    retrieved_docs = pineconevs.similarity_search_by_vector(query)\n",
    "    return retrieved_docs"
   ]
  },
  {
   "cell_type": "code",
   "execution_count": 54,
   "id": "95f2b240",
   "metadata": {},
   "outputs": [
    {
     "name": "stdout",
     "output_type": "stream",
     "text": [
      "No matches found\n"
     ]
    },
    {
     "data": {
      "text/plain": [
       "[]"
      ]
     },
     "execution_count": 54,
     "metadata": {},
     "output_type": "execute_result"
    }
   ],
   "source": [
    "# Testing out the retreival tool itself\n",
    "retrieve(\"Quantumn Theory\")"
   ]
  },
  {
   "cell_type": "code",
   "execution_count": 57,
   "id": "57cdaf56",
   "metadata": {},
   "outputs": [],
   "source": [
    "from typing import (\n",
    "    Annotated,\n",
    "    Sequence,\n",
    "    TypedDict,\n",
    ")\n",
    "from langchain_core.messages import BaseMessage\n",
    "from langgraph.graph.message import add_messages\n",
    "\n",
    "class AgentState(TypedDict):\n",
    "    \"\"\"The state of the agent.\"\"\"\n",
    "    messages: Annotated[Sequence[BaseMessage], add_messages]"
   ]
  },
  {
   "cell_type": "code",
   "execution_count": 55,
   "id": "932b4f99",
   "metadata": {},
   "outputs": [],
   "source": [
    "# Wrap individual tools into a utility box for our \n",
    "tools = [retrieve]"
   ]
  },
  {
   "cell_type": "code",
   "execution_count": null,
   "id": "a488c0a4",
   "metadata": {},
   "outputs": [],
   "source": [
    "import json\n",
    "from langchain_core.messages import ToolMessage, SystemMessage, AIMessage\n",
    "from langchain_core.runnables import RunnableConfig\n",
    "from langgraph.prebuilt import ToolNode\n",
    "\n",
    "\n",
    "\n",
    "def physics_agent(state: AgentState, config: RunnableConfig):\n",
    "    \"\"\"Physics tutor agent with explicit tool guidelines, history handling, and Discord tool usage.\"\"\"\n",
    "    \n",
    "    system_prompt = SystemMessage(\n",
    "       \"\"\"\n",
    "         You are an Agentic Retrieval-Augmented Generation (RAG) AI assistant designed to orchestrate\n",
    "         the full retrieval and answering workflow. Your role is to manage data extraction, transformation,\n",
    "         and loading (ETL) processes, support multilingual queries, and perform traceability and evaluation\n",
    "         of retrieval and generation results.\n",
    "\n",
    "         ### Rules and Constraints:\n",
    "\n",
    "         1. **Comprehensive Retrieval & ETL Management:**  \n",
    "            - Coordinate robust extraction, transformation, and loading of data from various sources.  \n",
    "            - Ensure data is clean, well-structured, and accessible for downstream tasks.  \n",
    "\n",
    "         2. **Multilingual Query Support:**  \n",
    "            - Handle queries in multiple languages accurately and seamlessly.  \n",
    "            - Use the retrieval tool to fetch relevant documents or information regardless of language.\n",
    "\n",
    "         3. **Tool Usage Instructions:**  \n",
    "            - You have access to the following tool:  \n",
    "\n",
    "            - **Retrieve Tool:**  \n",
    "               - Search and retrieve documents, knowledge snippets, or references based on query context.  \n",
    "               - Support filtering and prioritization to surface the most relevant content.  \n",
    "               - Inform the user clearly if the requested information is not found.\n",
    "\n",
    "         4. **Traceability and Evaluation:**  \n",
    "            - Maintain logs and traces of retrieval and generation steps to support debugging and evaluation.  \n",
    "            - Perform retrieval-augmented generation (RAG) evaluation to ensure answer quality and relevance.\n",
    "\n",
    "         5. **Context Awareness and History Usage:**  \n",
    "            - Utilize conversation history and context to maintain coherent and relevant responses.  \n",
    "            - If context or history is insufficient, leverage the retrieval tool to gather necessary information.\n",
    "\n",
    "         6. **Response Clarity and Structure:**  \n",
    "            - Provide clear, concise, and well-structured responses.  \n",
    "            - Use bullet points, step-by-step explanations, or summaries where appropriate.\n",
    "\n",
    "         ---\n",
    "\n",
    "         **Conversation History:**  \n",
    "         {history}\n",
    "\n",
    "         **Context:**  \n",
    "         {context}\n",
    "\n",
    "         **User Query:**  \n",
    "         {question}\n",
    "         \"\"\"\n",
    "\n",
    "    )\n",
    "    \n",
    "    # Model execution with tools\n",
    "    model = mistral_model.bind_tools(tools)\n",
    "\n",
    "    \n",
    "    response = model.invoke([system_prompt] + state[\"messages\"], config)\n",
    "    \n",
    "    return {\"messages\": [response]}\n",
    "\n"
   ]
  },
  {
   "cell_type": "code",
   "execution_count": 59,
   "id": "2559dc2a",
   "metadata": {},
   "outputs": [
    {
     "data": {
      "image/png": "[encoded data removed]",
      "text/plain": [
       "<IPython.core.display.Image object>"
      ]
     },
     "metadata": {},
     "output_type": "display_data"
    }
   ],
   "source": [
    "from langgraph.graph import StateGraph, END\n",
    "from langgraph.checkpoint.memory import MemorySaver\n",
    "from langgraph.prebuilt import tools_condition\n",
    "memory = MemorySaver()\n",
    "\n",
    "\n",
    "agent_tool = ToolNode(tools)\n",
    "workflow01 = StateGraph(AgentState)\n",
    "\n",
    "\n",
    "workflow01.add_node(\"agent\", physics_agent)\n",
    "workflow01.add_node(\"Utility\", agent_tool)\n",
    "\n",
    "workflow01.set_entry_point(\"agent\")\n",
    "\n",
    "workflow01.add_conditional_edges(\n",
    "    \"agent\",\n",
    "    tools_condition ,\n",
    "    {\n",
    "        \"tools\": \"Utility\",\n",
    "        END: END,\n",
    "\n",
    "    },\n",
    ")\n",
    "\n",
    "workflow01.add_edge(\"Utility\", \"agent\") \n",
    "\n",
    "graph01 = workflow01.compile(checkpointer=memory) \n",
    "\n",
    "\n",
    "from IPython.display import Image, display\n",
    "try:\n",
    "    display(Image(graph01.get_graph().draw_mermaid_png()))\n",
    "except Exception:\n",
    "    pass"
   ]
  },
  {
   "cell_type": "markdown",
   "id": "9649bd49",
   "metadata": {},
   "source": []
  },
  {
   "cell_type": "code",
   "execution_count": null,
   "id": "472172e2",
   "metadata": {},
   "outputs": [],
   "source": []
  },
  {
   "cell_type": "code",
   "execution_count": null,
   "id": "cf8d2dba",
   "metadata": {},
   "outputs": [
    {
     "name": "stdout",
     "output_type": "stream",
     "text": [
      "================================\u001b[1m Human Message \u001b[0m=================================\n",
      "\n",
      "Hello\n",
      "==================================\u001b[1m Ai Message \u001b[0m==================================\n",
      "\n",
      "Hello! I'm here to help with your physics questions. What topic are you studying today?\n"
     ]
    }
   ],
   "source": [
    "from langchain_core.messages import HumanMessage\n",
    "\n",
    "while True:\n",
    "    user_input = input(\"Your question: \")\n",
    "    if user_input.lower() == \"exit\":\n",
    "        break\n",
    "    input_message = [HumanMessage(content=user_input)]\n",
    "\n",
    "    config = {\"configurable\": {\"session_id\": \"abc123\", \"thread_id\": \"abc123\"}}\n",
    "\n",
    "    for step in graph01.stream({\"messages\": input_message}, config=config, stream_mode=\"values\"):\n",
    "        if \"messages\" in step and step[\"messages\"]:\n",
    "            step[\"messages\"][-1].pretty_print()"
   ]
  },
  {
   "cell_type": "code",
   "execution_count": null,
   "id": "9bdf39b4",
   "metadata": {},
   "outputs": [],
   "source": []
  },
  {
   "cell_type": "code",
   "execution_count": null,
   "id": "14af0744",
   "metadata": {},
   "outputs": [],
   "source": []
  },
  {
   "cell_type": "markdown",
   "id": "bb657e74",
   "metadata": {},
   "source": []
  },
  {
   "cell_type": "code",
   "execution_count": null,
   "id": "c9d0d9b9",
   "metadata": {},
   "outputs": [],
   "source": [
    "pip install tavily-python"
   ]
  },
  {
   "cell_type": "code",
   "execution_count": null,
   "id": "f47660cc",
   "metadata": {},
   "outputs": [],
   "source": [
    "from tavily import TavilyClient\n",
    "\n",
    "tavily_client = TavilyClient(api_key=\"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\")\n",
    "response = tavily_client.search(\"What is physics?\")\n",
    "\n",
    "\n",
    "print(response[\"url\"])"
   ]
  },
  {
   "cell_type": "code",
   "execution_count": null,
   "id": "97b6fdc9",
   "metadata": {},
   "outputs": [],
   "source": []
  }
 ],
 "metadata": {
  "kernelspec": {
   "display_name": "aparavi",
   "language": "python",
   "name": "python3"
  },
  "language_info": {
   "codemirror_mode": {
    "name": "ipython",
    "version": 3
   },
   "file_extension": ".py",
   "mimetype": "text/x-python",
   "name": "python",
   "nbconvert_exporter": "python",
   "pygments_lexer": "ipython3",
   "version": "3.10.18"
  }
 },
 "nbformat": 4,
 "nbformat_minor": 5
}
